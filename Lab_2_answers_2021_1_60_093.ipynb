{
 "cells": [
  {
   "cell_type": "markdown",
   "metadata": {
    "id": "SetkjuPIi8Md"
   },
   "source": [
    "Number 1 task"
   ]
  },
  {
   "cell_type": "code",
   "execution_count": 16,
   "metadata": {
    "colab": {
     "base_uri": "https://localhost:8080/"
    },
    "id": "m6msecVUjCLC",
    "outputId": "0feb0443-2f55-490b-a3af-a4ca48545e8e"
   },
   "outputs": [
    {
     "name": "stdout",
     "output_type": "stream",
     "text": [
      "[0 1 2 3 4 5 6 7 8 9]\n"
     ]
    }
   ],
   "source": [
    "import numpy as n\n",
    "array = n.arange(10)\n",
    "print(array)"
   ]
  },
  {
   "cell_type": "markdown",
   "metadata": {
    "id": "-2h7ySiMjukq"
   },
   "source": [
    "Number 2"
   ]
  },
  {
   "cell_type": "code",
   "execution_count": 17,
   "metadata": {
    "colab": {
     "base_uri": "https://localhost:8080/"
    },
    "id": "LmXi-16Ev5wl",
    "outputId": "a794e96f-31b1-4641-e846-dc342b5c9755"
   },
   "outputs": [
    {
     "name": "stdout",
     "output_type": "stream",
     "text": [
      "[[36 64 93 65]\n",
      " [73 66 87 68]\n",
      " [74 18  4 45]\n",
      " [29 63 82 20]]\n"
     ]
    }
   ],
   "source": [
    "import numpy as n\n",
    "arr= n.random.randint(100,size=(4,4))\n",
    "print(arr)\n"
   ]
  },
  {
   "cell_type": "markdown",
   "metadata": {
    "id": "dAz4Qlr1qPra"
   },
   "source": [
    "Number 3"
   ]
  },
  {
   "cell_type": "code",
   "execution_count": 18,
   "metadata": {
    "id": "Z5OLDMzNqR-7"
   },
   "outputs": [],
   "source": [
    "import numpy as n\n",
    "arr = n.arange(20).reshape(4, 5)"
   ]
  },
  {
   "cell_type": "markdown",
   "metadata": {
    "id": "UyfqriEYpGKq"
   },
   "source": [
    "Number **4**"
   ]
  },
  {
   "cell_type": "code",
   "execution_count": 19,
   "metadata": {
    "colab": {
     "base_uri": "https://localhost:8080/"
    },
    "id": "9bfrSs12prNK",
    "outputId": "a202df76-4970-4a4f-ffe0-471edcc78d6f"
   },
   "outputs": [
    {
     "name": "stdout",
     "output_type": "stream",
     "text": [
      "[[1. 0. 0.]\n",
      " [0. 1. 0.]\n",
      " [0. 0. 1.]]\n"
     ]
    }
   ],
   "source": [
    "import numpy as n\n",
    "arr= n.identity(3)\n",
    "print(arr)"
   ]
  },
  {
   "cell_type": "markdown",
   "metadata": {
    "id": "ToRyB-uIwV8l"
   },
   "source": [
    "Number 5"
   ]
  },
  {
   "cell_type": "code",
   "execution_count": 20,
   "metadata": {
    "colab": {
     "base_uri": "https://localhost:8080/"
    },
    "id": "du4EBaenwYMi",
    "outputId": "3b796456-32f2-44b7-f03a-b49db79e747d"
   },
   "outputs": [
    {
     "name": "stdout",
     "output_type": "stream",
     "text": [
      "[[0.00639781 0.5654917  0.20102758]\n",
      " [0.69936716 0.55464776 0.44128805]]\n"
     ]
    }
   ],
   "source": [
    "import numpy as n\n",
    "arr= n.random.rand(2,3)\n",
    "print(arr)"
   ]
  },
  {
   "cell_type": "markdown",
   "metadata": {
    "id": "U4bf2KflxlP9"
   },
   "source": [
    "Number 6"
   ]
  },
  {
   "cell_type": "code",
   "execution_count": 21,
   "metadata": {
    "colab": {
     "base_uri": "https://localhost:8080/"
    },
    "id": "FrtC7SZAxmpi",
    "outputId": "6a9907f7-3b7e-4472-f343-55fc4efd6189"
   },
   "outputs": [
    {
     "name": "stdout",
     "output_type": "stream",
     "text": [
      "[[0.85011504 0.89872005]\n",
      " [0.59822727 0.86609902]\n",
      " [0.65190835 0.63320366]]\n"
     ]
    }
   ],
   "source": [
    "import numpy as n\n",
    "arr= n.random.rand(3,2)\n",
    "print(arr)"
   ]
  },
  {
   "cell_type": "markdown",
   "metadata": {
    "id": "8-1izYpUrhCi"
   },
   "source": [
    "Number *7*"
   ]
  },
  {
   "cell_type": "code",
   "execution_count": 22,
   "metadata": {
    "colab": {
     "base_uri": "https://localhost:8080/"
    },
    "id": "mIj7GDVcuMnC",
    "outputId": "35f5399e-9a57-4133-b80e-281775a67629"
   },
   "outputs": [
    {
     "name": "stdout",
     "output_type": "stream",
     "text": [
      "[[0.22055277 0.78038478 0.4595462  0.31563352 0.40768129]\n",
      " [0.44875839 0.24489657 0.93212364 0.58245902 0.0118265 ]\n",
      " [0.64041609 0.54815483 0.37593443 0.40627021 0.01034664]\n",
      " [0.14790001 0.37951625 0.45331654 0.82821628 0.71737568]\n",
      " [0.93901961 0.73346749 0.85243491 0.23238627 0.27285623]]\n"
     ]
    }
   ],
   "source": [
    "import numpy as n\n",
    "x = n.random.rand(5,5)\n",
    "print(x)"
   ]
  },
  {
   "cell_type": "markdown",
   "metadata": {
    "id": "otiX2fy-xU66"
   },
   "source": [
    "Number 8"
   ]
  },
  {
   "cell_type": "code",
   "execution_count": 23,
   "metadata": {
    "colab": {
     "base_uri": "https://localhost:8080/"
    },
    "id": "XdfFdVP9xWsi",
    "outputId": "d17759ba-96bb-428f-98e0-90e859756d6a"
   },
   "outputs": [
    {
     "name": "stdout",
     "output_type": "stream",
     "text": [
      "[[ 1  2  3  4]\n",
      " [ 5  6  7  8]\n",
      " [ 9 10 11 12]]\n"
     ]
    }
   ],
   "source": [
    "import numpy as n\n",
    "arr = n.arange(1, 13)\n",
    "reshaped_arr = arr.reshape(3, 4)\n",
    "print(reshaped_arr)"
   ]
  },
  {
   "cell_type": "markdown",
   "metadata": {
    "id": "q8DckKiOETAb"
   },
   "source": [
    "Number 9\n"
   ]
  },
  {
   "cell_type": "code",
   "execution_count": 24,
   "metadata": {
    "colab": {
     "base_uri": "https://localhost:8080/"
    },
    "id": "QMopFEIVFCKS",
    "outputId": "c503771b-0556-459c-cc56-6a71e8dd7c80"
   },
   "outputs": [
    {
     "name": "stdout",
     "output_type": "stream",
     "text": [
      "[1 2 3 4 5 6]\n"
     ]
    }
   ],
   "source": [
    "import numpy as n\n",
    "array_2d = n.array([[1, 2, 3], [4, 5, 6]])\n",
    "array_1d = array_2d.reshape(-1)\n",
    "print(array_1d)\n",
    "array_1d = array_2d.flatten()"
   ]
  },
  {
   "cell_type": "markdown",
   "metadata": {
    "id": "Z1IUTSWyGIpS"
   },
   "source": [
    "Number 10"
   ]
  },
  {
   "cell_type": "code",
   "execution_count": 25,
   "metadata": {
    "colab": {
     "base_uri": "https://localhost:8080/"
    },
    "id": "bKdBUey-GH_7",
    "outputId": "15aec7d4-e97b-4abd-e58a-9b01d25e260e"
   },
   "outputs": [
    {
     "name": "stdout",
     "output_type": "stream",
     "text": [
      "[0 1 2 3 4 5 6 7 8]\n",
      "[[0 1 2]\n",
      " [3 4 5]\n",
      " [6 7 8]]\n"
     ]
    }
   ],
   "source": [
    "import numpy as n\n",
    "\n",
    "array_1d = n.arange(9)\n",
    "print(array_1d)\n",
    "\n",
    "array_3x3 = array_1d.reshape((3, 3))\n",
    "print(array_3x3)"
   ]
  }
 ],
 "metadata": {
  "colab": {
   "provenance": []
  },
  "kernelspec": {
   "display_name": "Python 3",
   "name": "python3"
  },
  "language_info": {
   "codemirror_mode": {
    "name": "ipython",
    "version": 3
   },
   "file_extension": ".py",
   "mimetype": "text/x-python",
   "name": "python",
   "nbconvert_exporter": "python",
   "pygments_lexer": "ipython3",
   "version": "3.11.9"
  }
 },
 "nbformat": 4,
 "nbformat_minor": 0
}
